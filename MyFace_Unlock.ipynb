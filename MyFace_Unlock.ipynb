{
 "cells": [
  {
   "cell_type": "code",
   "execution_count": 2,
   "metadata": {},
   "outputs": [],
   "source": [
    "import cv2\n",
    "import matplotlib.pyplot as plt\n",
    "%matplotlib inline\n",
    "import numpy as np\n",
    "import pandas as pd\n",
    "from os import listdir\n",
    "from os.path import join, isfile\n",
    "\n",
    "from IPython.core.interactiveshell import InteractiveShell\n",
    "InteractiveShell.ast_node_interactivity = \"all\""
   ]
  },
  {
   "cell_type": "markdown",
   "metadata": {},
   "source": [
    "### Create Training Data"
   ]
  },
  {
   "cell_type": "code",
   "execution_count": 12,
   "metadata": {},
   "outputs": [
    {
     "name": "stdout",
     "output_type": "stream",
     "text": [
      "Sample collection complete\n"
     ]
    }
   ],
   "source": [
    "face_classifier = cv2.CascadeClassifier(\"haarcascade_frontalface_default.xml\")\n",
    "\n",
    "def face_detector(img):\n",
    "    \"\"\"\n",
    "    Detects faces from the image and returns a cropped face.\n",
    "    If there are no faces detected, it returns the same input image.\n",
    "    \"\"\"\n",
    "    \n",
    "    gray = cv2.cvtColor(img,cv2.COLOR_BGR2GRAY)\n",
    "    faces = face_classifier.detectMultiScale(gray, 1.3,5)\n",
    "    if faces is ():\n",
    "        return None\n",
    "    #Crop the faces\n",
    "    for (x,y,w,h) in faces:\n",
    "        crop = img[y:y+h,x:x+w]\n",
    "    \n",
    "    return crop\n",
    "\n",
    "#Initialize Webcam\n",
    "cap = cv2.VideoCapture(0)\n",
    "count = 0\n",
    "\n",
    "#Collect 150 samples of your face, for training. \n",
    "while True:\n",
    "        _, frame = cap.read()\n",
    "        if face_detector(frame) is not None:\n",
    "            count += 1\n",
    "            img = cv2.resize(face_detector(frame),(200,200))\n",
    "            img = cv2.cvtColor(img, cv2.COLOR_BGR2GRAY)\n",
    "            \n",
    "            #Save the image\n",
    "            path = \"./images/\"+ str(count) + \".jpg\"\n",
    "            cv2.imwrite(path,img)\n",
    "            \n",
    "            #Display live count of number of samples\n",
    "            cv2.putText(img, str(count), (50,50), cv2.FONT_HERSHEY_COMPLEX, 1, (255,0,0), 2)\n",
    "            cv2.imshow(\"Sample\", img)\n",
    "            \n",
    "        else:\n",
    "            print(\"Face not found\")\n",
    "            break\n",
    "            \n",
    "        if cv2.waitKey(1) == 13 or count == 150:\n",
    "            break\n",
    "            \n",
    "cap.release()\n",
    "cv2.destroyAllWindows()\n",
    "print(\"Sample collection complete\")"
   ]
  },
  {
   "cell_type": "markdown",
   "metadata": {},
   "source": [
    "### Train the model"
   ]
  },
  {
   "cell_type": "code",
   "execution_count": 13,
   "metadata": {},
   "outputs": [
    {
     "name": "stdout",
     "output_type": "stream",
     "text": [
      "Model trained!\n"
     ]
    }
   ],
   "source": [
    "file_path = \"./images/\"\n",
    "files = [file for file in listdir(file_path) if isfile(join(file_path,file))]\n",
    "\n",
    "#create numpy array of training data\n",
    "train = []\n",
    "labels = []\n",
    "\n",
    "for idx, img in enumerate(files):\n",
    "    img_path = file_path+img\n",
    "    image = cv2.imread(img_path, 0)\n",
    "    train.append(np.asarray(image, dtype= np.uint8))\n",
    "    labels.append(idx)\n",
    "    \n",
    "labels = np.asarray(labels, dtype=np.int32)\n",
    "\n",
    "#create the model and train \n",
    "model = cv2.face.LBPHFaceRecognizer_create()\n",
    "model.train(np.asarray(train),labels)\n",
    "\n",
    "print(\"Model trained!\")"
   ]
  },
  {
   "cell_type": "markdown",
   "metadata": {},
   "source": [
    "### Classifying Images"
   ]
  },
  {
   "cell_type": "code",
   "execution_count": 19,
   "metadata": {},
   "outputs": [],
   "source": [
    "face_classifier = cv2.CascadeClassifier(\"haarcascade_frontalface_default.xml\")\n",
    "\n",
    "def face_detector(img):\n",
    "    \"\"\"\n",
    "    Detects faces from the image and returns a cropped face.\n",
    "    If there are no faces detected, it returns the same input image.\n",
    "    \"\"\"\n",
    "    \n",
    "    gray = cv2.cvtColor(img,cv2.COLOR_BGR2GRAY)\n",
    "    faces = face_classifier.detectMultiScale(gray, 1.3,5)\n",
    "    if faces is ():\n",
    "        return img,[]\n",
    "    #Crop the faces\n",
    "    for (x,y,w,h) in faces:\n",
    "        cv2.rectangle(img,(x,y),(x+w,y+h),(240,200,150),2)\n",
    "        roi = img[y:y+h,x:x+w]\n",
    "        cv2.resize(roi, (200,200))\n",
    "    \n",
    "    return img,roi\n",
    "\n",
    "#Initialize Webcam\n",
    "cap = cv2.VideoCapture(0)\n",
    "\n",
    "#Collect 150 samples of your face, for training. \n",
    "while True:\n",
    "        _, frame = cap.read()\n",
    "        img,face = face_detector(frame)\n",
    "        try:\n",
    "            face = cv2.cvtColor(face, cv2.COLOR_BGR2GRAY)\n",
    "            \n",
    "            #pass the new face to model\n",
    "            res = model.predict(face)\n",
    "            #res is tuple of label and conf value\n",
    "            \n",
    "            if res[1] < 500:\n",
    "                conf = int(100*(1-(res[1])/300))\n",
    "                msg = str(conf)+\"% confident this is the user\"\n",
    "            cv2.putText(img, msg, (100,120), cv2.FONT_HERSHEY_COMPLEX, 1, (150,250,255), 2)\n",
    "            \n",
    "            if conf > 75:\n",
    "                cv2.putText(img, \"UNLOCKED\", (250,450), cv2.FONT_HERSHEY_COMPLEX, 1, (0,255,0), 2)\n",
    "                cv2.imshow(\"Face\", img)\n",
    "                \n",
    "            else:\n",
    "                cv2.putText(img, \"LOCKED\", (250,450), cv2.FONT_HERSHEY_COMPLEX, 1, (0,0,255), 2)\n",
    "                cv2.imshow(\"Face\", img)   \n",
    "        except:\n",
    "            cv2.putText(img,\"No Face Found\" , (220,120), cv2.FONT_HERSHEY_COMPLEX, 1, (0,0,255), 2)\n",
    "            cv2.putText(img, \"LOCKED\", (250,450), cv2.FONT_HERSHEY_COMPLEX, 1, (0,0,255), 2)\n",
    "            cv2.imshow(\"Face\", img)\n",
    "            pass\n",
    "            \n",
    "        if cv2.waitKey(1) == 13:\n",
    "            break\n",
    "            \n",
    "cap.release()\n",
    "cv2.destroyAllWindows()"
   ]
  }
 ],
 "metadata": {
  "kernelspec": {
   "display_name": "Python 3",
   "language": "python",
   "name": "python3"
  },
  "language_info": {
   "codemirror_mode": {
    "name": "ipython",
    "version": 3
   },
   "file_extension": ".py",
   "mimetype": "text/x-python",
   "name": "python",
   "nbconvert_exporter": "python",
   "pygments_lexer": "ipython3",
   "version": "3.7.4"
  }
 },
 "nbformat": 4,
 "nbformat_minor": 2
}
